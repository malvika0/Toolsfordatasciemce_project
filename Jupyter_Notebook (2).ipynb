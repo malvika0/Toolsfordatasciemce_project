{
 "cells": [
  {
   "cell_type": "markdown",
   "metadata": {},
   "source": [
    "<center>\n",
    "    <img src=\"https://cf-courses-data.s3.us.cloud-object-storage.appdomain.cloud/IBMDeveloperSkillsNetwork-DS0105EN-SkillsNetwork/labs/Module2/images/SN_web_lightmode.png\" width=\"300\" alt=\"cognitiveclass.ai logo\">\n",
    "</center>\n"
   ]
  },
  {
   "cell_type": "markdown",
   "metadata": {},
   "source": [
    "#### Add your code below following the instructions given in the course\n"
   ]
  },
  {
   "cell_type": "markdown",
   "metadata": {
    "tags": []
   },
   "source": [
    "# FINAL ASSIGNMENT OF TOOLS FOR DATA SCIENCE"
   ]
  },
  {
   "cell_type": "markdown",
   "metadata": {},
   "source": [
    "## Introduction\n",
    "This Jupyter notebook is the final assignment of the Course __Tools For Data Science__ offered by IBM at Coursera. In the following cells we will use some basic exposition of Data Science languages, tools, Libraries and some simple codes in order to present some basic arithmetic expression examples like multiplication, addition etc in order to present all the exercises. "
   ]
  },
  {
   "cell_type": "markdown",
   "metadata": {},
   "source": [
    "## __DATA SCIENCE LANGUAGES__\n",
    "\n",
    "Some of the popular data science languages are:-\n",
    "\n",
    "- Python\n",
    "- R\n",
    "- SQL\n",
    "- Java\n",
    "- Julia\n",
    "- Javascript\n",
    "- C/C++\n",
    "- Scala\n"
   ]
  },
  {
   "cell_type": "markdown",
   "metadata": {},
   "source": [
    "## __DATA SCIENCE LIBRARIES__\n",
    "\n",
    "There are different libraries available to different programming languages, some of them are:\n",
    "\n",
    "- TensorFlow- It is a library for high-performance numerical computations and used across various scientific fields.\n",
    "- SciPy- It is a free and open-source Python library for data science that is extensively used for high-level computations.\n",
    "- NumPy- It provides fast, pre-compiled functions for numerical routines\n",
    "- Pandas- It is the most popular and widely used Python library for data science, along with NumPy in matplotlib as it provides High-level abstraction.\n",
    "- Matplotlib- Matplotlib has powerful yet beautiful visualizations. Because of the graphs and plots that it produces, it’s extensively used for data visualization.\n",
    "- Scikit-learn- This library provides almost all the machine learning algorithms, it is designed to be interpolated into NumPy and SciPy.\n",
    "- PyTorch- It is one of the most commonly preferred deep learning research platforms built to provide maximum flexibility and speed.\n",
    "- Scrapy- It is one of the most popular, fast, open-source web crawling frameworks written in Python. It is commonly used to extract the data from the web page with the help of selectors based on XPath.\n",
    "- and many more.."
   ]
  },
  {
   "cell_type": "markdown",
   "metadata": {},
   "source": [
    "## __DATA SCIENCE TOOLS__\n",
    "\n",
    "Some of the data science tools which we have learn in this course are:-\n",
    "\n",
    "| Name            | Open Source or Not    |      Description                                                                                   |\n",
    "| --------------- | --------------------- | ---------------------------------------------------------------------------------------------------|\n",
    "| Jupyter         | Yes                   | Integrated Development Environment for Python, R and other languages                               |\n",
    "| --------------- | --------------------- | ---------------------------------------------------------------------------------------------------|\n",
    "| RStudio         | Yes                   | Integrated Development Environment for R                                                           |\n",
    "| --------------- | --------------------- | ---------------------------------------------------------------------------------------------------|\n",
    "| GitHub          | Yes                   | Version control repository for your projects                                                       |\n",
    "| --------------- | --------------------- | ---------------------------------------------------------------------------------------------------|\n",
    "| Watson Studio   | No                    | IDE developed by IBM that merges plenty of utilities for Data Science, including the ones above    |"
   ]
  },
  {
   "cell_type": "markdown",
   "metadata": {},
   "source": [
    "## __Markdown Cell to illustrate some basic Arithmetic Expression Examples__\n",
    "\n",
    "As we know, Data science careers require mathematical study because machine learning algorithms, and performing analyses and discovering insights from data require math. While math will not be the only requirement for educational and career path in data science, but it's often one of the most important. \n",
    "Sometimes we may want to do some annotations, equations and other things to illustrate our notebook. For example:-\n",
    "\n",
    "An arithmetic expression is an expression using additions +, subtractions -, multiplications *, divisions / etc.\n",
    "For example:-  \n",
    "\n",
    "1 __+__ 1 = 2 \n",
    "\n",
    "2 __*__ 3 = 6 \n",
    "\n",
    "4 __-__ 2 = 2 \n",
    "\n",
    "9 __/__ 3 = 3\n",
    "\n",
    "Here we can see some basic arithmetic operations examples mentioned above.\n",
    "\n",
    "Some other examples which we use in python are:-\n",
    "\n",
    "\n",
    "a = 13\n",
    "\n",
    "b = 5\n",
    "\n",
    "c = a / b\n",
    "\n",
    "print(c)\n",
    "\n",
    "__Output- 2.6__\n",
    "\n",
    "\n",
    "x = 3\n",
    "\n",
    "y = 3\n",
    "\n",
    "print(x**y)\n",
    "\n",
    "__Output- 27__\n",
    "\n",
    "\n",
    "\n"
   ]
  },
  {
   "cell_type": "markdown",
   "metadata": {},
   "source": [
    "### __Code Cell which will multiply and add numbers__\n",
    "\n",
    "Here we will present a little code to add and multiply numbers. In python we use + operator for addition and * for multiplication.\n",
    "\n",
    "For example:-\n",
    "\n",
    "If we need to add two numbers to get a output of __9__ then we will do it like this:-\n",
    "\n",
    "5+4\n",
    "\n",
    "If we need to multiply two numbers to get a output of __20__ then we will do it like this:-\n",
    "\n",
    "5*4\n",
    "\n",
    "Now lets illustrate this in form of Python Program\n",
    "The code below saves these same values into 2 varialbes (num1 and num2) and prints their multiplication and addition.\n"
   ]
  },
  {
   "cell_type": "code",
   "execution_count": 8,
   "metadata": {},
   "outputs": [
    {
     "name": "stdin",
     "output_type": "stream",
     "text": [
      "Introduce the first number:  5\n",
      "Introduce the second number:  4\n"
     ]
    },
    {
     "name": "stdout",
     "output_type": "stream",
     "text": [
      "The multiplication of 5 and 4 is: 20\n",
      "And the addition of 5 and 4 is: 9\n"
     ]
    }
   ],
   "source": [
    "# User can introduce the values\n",
    "num1=int(input(\"Introduce the first number: \"))\n",
    "num2=int(input(\"Introduce the second number: \"))\n",
    "\n",
    "# Priting values and their result after multiplication and addition\n",
    "print(\"The multiplication of\", num1, \"and\", num2, \"is:\", num1*num2)\n",
    "print(\"And the addition of\", num1, \"and\", num2, \"is:\", num1+num2)\n"
   ]
  },
  {
   "cell_type": "markdown",
   "metadata": {},
   "source": [
    "### __Code Cell which convert minutes into hours__\n",
    "\n",
    "Here we will present a little code to convert minuets into hours. In python we use // Floor division operator for to get integer value(without decimal) and % modulus operator to get remainder value.\n",
    "\n",
    "For example:-\n",
    "\n",
    "If we need to get an integer output of two numbers like __5__ then we will do it like this:-\n",
    "\n",
    "20//4\n",
    "\n",
    "If we want a remainder value of two numbers like __3__ then we will do it like this:-\n",
    "\n",
    "9%6\n",
    "\n",
    "Now lets illustrate this in form of Python Program\n",
    "\n",
    "Now, we are going to use the following operators // and %. These are known as integer division and modulo. With integer division you get what it says, the integer division. With the modulo operator you get the remainder of a integer division. In conjunction we can build a little calculator to get the number of hours given a quantity of minutes."
   ]
  },
  {
   "cell_type": "code",
   "execution_count": 13,
   "metadata": {},
   "outputs": [
    {
     "name": "stdin",
     "output_type": "stream",
     "text": [
      "Introduce minutes:  440\n"
     ]
    },
    {
     "name": "stdout",
     "output_type": "stream",
     "text": [
      "In 440 minutes there are 7 hours and 20 minutes\n"
     ]
    }
   ],
   "source": [
    "# User can introduce the values for the minutes\n",
    "min=int(input(\"Introduce minutes: \"))\n",
    "hrs=min // 60 # total of hours \n",
    "remain=min % 60 # remainder of minutes\n",
    "print(\"In\", min, \"minutes there are\", hrs, \"hours and\", remain, \"minutes\")"
   ]
  },
  {
   "cell_type": "markdown",
   "metadata": {},
   "source": [
    "## __Objectives__\n",
    "\n",
    "So the objectives for this notebook are:\n",
    "\n",
    "- Learning basic functionalities in Jupyter, like introducing cells and learning Markdown language\n",
    "- Understand and manage projects in Watson Studio (if used)\n",
    "- Creating your own repository in GitHub to upload this notebook to be peer-reviewed."
   ]
  }
 ],
 "metadata": {
  "kernelspec": {
   "display_name": "Python",
   "language": "python",
   "name": "conda-env-python-py"
  },
  "language_info": {
   "codemirror_mode": {
    "name": "ipython",
    "version": 3
   },
   "file_extension": ".py",
   "mimetype": "text/x-python",
   "name": "python",
   "nbconvert_exporter": "python",
   "pygments_lexer": "ipython3",
   "version": "3.7.12"
  }
 },
 "nbformat": 4,
 "nbformat_minor": 4
}
